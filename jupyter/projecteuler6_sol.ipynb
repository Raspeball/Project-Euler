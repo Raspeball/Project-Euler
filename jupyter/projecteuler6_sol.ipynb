{
 "cells": [
  {
   "cell_type": "markdown",
   "id": "assigned-designation",
   "metadata": {},
   "source": [
    "## Problembeskrivelse\n",
    "*Fritt oversatt fra [Project Euler](https://projecteuler.net/problem=6)*\n",
    "\n",
    "Summen av kvadratet av de første ti naturlige tallene er,\n",
    "$$1^2 + 2^2 + 3^2 + \\ldots{} + 10^2 = 385$$\n",
    "\n",
    "Kvadratet av summen av de første ti naturlige tallene er,\n",
    "\n",
    "$$(1 + 2 + 3 + \\ldots{} + 10)^{2} = 55^{2} = 3025$$\n",
    "\n",
    "Differansen mellom kvadratet av summen, og summen av kvadratene, er da\n",
    "$3025 - 385 = 2640$\n",
    "\n",
    "Finn differansen mellom kvadratet av summen av de hundre første naturlige tallene, og summen av kvadratene. I.e,\n",
    "\n",
    "$$(1 + 2 + 3 + \\ldots{} + \\text{n})^{2} - (1^2 + 2^2 + 3^2 + \\ldots{} + \\text{n}^2)$$\n",
    "\n",
    "der $n = 100$\n",
    "\n"
   ]
  },
  {
   "cell_type": "markdown",
   "id": "serious-hundred",
   "metadata": {},
   "source": [
    "## Løsning\n",
    "Koden til løsningen på dette problemet vil være bygget opp med funksjoner.\n",
    "\n",
    "### Steg 1: Sum av kvadrater\n",
    "Først lager vi funksjonen `SumOfSquares()` som tar inn et heltall (naturlig tall) `n`,\n",
    "og regner ut summen av kvadratet av alle tall opp *til og med* `n`."
   ]
  },
  {
   "cell_type": "code",
   "execution_count": 10,
   "id": "complex-installation",
   "metadata": {},
   "outputs": [],
   "source": [
    "def SumOfSquares(n):\n",
    "\tres = 0\n",
    "\tfor i in range(n + 1):\n",
    "\t\tres += i**2\n",
    "\n",
    "\treturn res"
   ]
  },
  {
   "cell_type": "markdown",
   "id": "equal-gnome",
   "metadata": {},
   "source": [
    "- I funksjonen lager vi variabelen `res`. Denne variabelen oppdateres ved at vi hele tiden legger til kvadratet av et tall.\n",
    "- Vi kontrollerer hvilke tall vi legger til i `res` ved å bruke en `for`-løkke som itererer gjennom alle tallene fra 0 til `n`.\n",
    "- Vi bruker `range(n + 1)` for å få med endepunktet (`range(100)` inkluderer ikke 100).\n",
    "- `res += i**2` legger til kvadratet av gjeldende iterasjon (tall) til variabelen `res`\n",
    "- Til sist returnerer vi `res` slik at når vi kaller funksjonen vil vi få summen av kvadratene.\n"
   ]
  },
  {
   "cell_type": "markdown",
   "id": "naughty-wesley",
   "metadata": {},
   "source": [
    "### Steg 2: Kvadratet av summen\n",
    "For å finne kvadratet av summen av de første n naturlige tallene lager vi funksjonen `SquareOfSum`.\n",
    "Denne er litt enklere enn den første funksjonen, fordi vi kan utnytte relasjonen mellom summen av\n",
    "de første n naturlige tallene og det n-te [trekanttallet](https://en.wikipedia.org/wiki/Triangular_number).\n",
    "\n",
    "Mer bestemt, så er det n-te trekanttallet, $T_n$\n",
    "$$T_{n} = \\sum_{i=1}^{n} i = 1 + 2 + 3 + \\ldots{} + n = \\frac{n(n+1)}{2}$$\n",
    "og dette utnytter vi i funksjonen vår.\n",
    "Funksjonen `SquareOfSum` tar inn et heltall `n` og regner ut kvadratet av summen tallene opp *til og med* `n`."
   ]
  },
  {
   "cell_type": "code",
   "execution_count": 11,
   "id": "opening-dakota",
   "metadata": {},
   "outputs": [],
   "source": [
    "def SquareOfSum(n):\n",
    "\tres = ((n * (n + 1)) / 2)**2\n",
    "    \n",
    "\treturn res"
   ]
  },
  {
   "cell_type": "markdown",
   "id": "conceptual-cedar",
   "metadata": {},
   "source": [
    "- Variabelen `res` holder resultatet, altså kvadratet av summen.\n",
    "- Vi definerer `res` ved formelen for det n-te trekanttalletm, og husker å kvadrere alt.\n",
    "- Vi returnerer `res` slik at når vi kaller funksjonen vil vi få summen av kvadratene."
   ]
  },
  {
   "cell_type": "markdown",
   "id": "healthy-playlist",
   "metadata": {},
   "source": [
    "### Steg 3: Finne differansen\n",
    "Det som gjenstår nå er simpelthen å finne differansen.\n",
    "For å gjøre det kaller vi begge funksjonene vi har laget tidligere, og regner ut differansen."
   ]
  },
  {
   "cell_type": "code",
   "execution_count": 12,
   "id": "dense-radius",
   "metadata": {},
   "outputs": [
    {
     "name": "stdout",
     "output_type": "stream",
     "text": [
      "25164150.0\n"
     ]
    }
   ],
   "source": [
    "target = 100\n",
    "\n",
    "diff = SquareOfSum(target) - SumOfSquares(target)\n",
    "\n",
    "print(diff)"
   ]
  },
  {
   "cell_type": "markdown",
   "id": "small-drove",
   "metadata": {},
   "source": [
    "- Vi definerer variabelen `target` og tildeler den verdien 100, siden problembeskrivelsen gjelder de naturlige tallene opp til og med 100.\n",
    "- Vi definerer variabelen `diff` ved å kalle funksjonene våre. Mer bestemt, differansen mellom disse.\n",
    "- Til slutt bruker vi `print(diff)` for å skrive resultatet til konsoll."
   ]
  },
  {
   "cell_type": "markdown",
   "id": "developing-error",
   "metadata": {},
   "source": [
    "### Komplett kode\n",
    "Den fullstendige koden vil da se slik ut, og vi kan kjøre programmet for å få differansen,\n",
    "`diff = 25164150`\n"
   ]
  },
  {
   "cell_type": "code",
   "execution_count": 13,
   "id": "clinical-application",
   "metadata": {},
   "outputs": [
    {
     "name": "stdout",
     "output_type": "stream",
     "text": [
      "25164150.0\n"
     ]
    }
   ],
   "source": [
    "# Sum av kvadrater\n",
    "def SumOfSquares(n):\n",
    "\tres = 0\n",
    "\tfor i in range(n + 1):\n",
    "\t\tres += i**2\n",
    "\n",
    "\treturn res\n",
    "\n",
    "# Kvadrat av summen\n",
    "def SquareOfSum(n):\n",
    "\tres = ((n * (n + 1)) / 2)**2\n",
    "    \n",
    "\treturn res\n",
    "\n",
    "\n",
    "# De 100 første naturlige tallene\n",
    "target = 100 # we want to work with the first 100 natural numbers\n",
    "\n",
    "# Regner differansen\n",
    "diff = SquareOfSum(target) - SumOfSquares(target)\n",
    "\n",
    "# Printer resultatet\n",
    "print(diff)"
   ]
  }
 ],
 "metadata": {
  "kernelspec": {
   "display_name": "Python 3",
   "language": "python",
   "name": "python3"
  },
  "language_info": {
   "codemirror_mode": {
    "name": "ipython",
    "version": 3
   },
   "file_extension": ".py",
   "mimetype": "text/x-python",
   "name": "python",
   "nbconvert_exporter": "python",
   "pygments_lexer": "ipython3",
   "version": "3.9.2"
  }
 },
 "nbformat": 4,
 "nbformat_minor": 5
}
