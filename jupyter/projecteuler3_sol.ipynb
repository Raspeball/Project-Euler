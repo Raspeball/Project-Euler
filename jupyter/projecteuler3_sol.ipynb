{
 "cells": [
  {
   "cell_type": "markdown",
   "id": "inside-prayer",
   "metadata": {},
   "source": [
    "## Problembeskrivelse\n",
    "\n",
    "*Fritt oversatt fra [Project Euler](https://projecteuler.net/problem=3)*\n",
    "\n",
    "[Primtallsfaktorene](https://no.wikipedia.org/wiki/Primtall) til $13195$ er $5$, $7$, $13$ og $29$.\n",
    "\n",
    "Mer bestemt, kan vi skrive $13195$ som et produkt av disse faktorene:\n",
    "\n",
    "$$13195 = 5\\cdot 7 \\cdot 13 \\cdot 29$$\n",
    "\n",
    "\n",
    "Hva er den største primtallfaktoren til tallet $600851475143$?\n",
    "\n"
   ]
  },
  {
   "cell_type": "markdown",
   "id": "quiet-pepper",
   "metadata": {},
   "source": [
    "## Løsning\n",
    "I løsniningen til dette problemet vil vi benytte en funksjon som sjekker om et tall er primtall.\n",
    "\n",
    "### Steg 1: Sjekke om et tall er primtall\n",
    "\n",
    "For å kunne løse dette problemet er det helt essensielt å vite om et tall er primtall eller ikke. For relativt små tall er dette enkelt å sjekke. Man kan også konsultere lister for å sjekke om et tall er primtall eller ikke - [Wikipedia](https://en.wikipedia.org/wiki/List_of_prime_numbers) har feks. en liste over de tusen første primtallene.\n",
    "Men, dette er tungvindt, og ekstremt lite praktisk i programmeringssammenheng.\n",
    "\n",
    "Det eksisterer flere metoder man kan bruke og implementere for å lage et script som sjekker om et tall er primtall eller ikke. I denne løsningen vil vi skrive en relativt \"rett fram\" funksjon, som gjør jobben for oss (det er ikke den mest effektive metoden, men godt nok, og matematisk veldig forståelig).\n",
    "\n",
    "#### Matematikk:\n",
    "Her antas det at leseren er godt kjent med primtall.\n",
    "\n",
    "Videre bruker vi i programmet at $n = \\sqrt n\\cdot \\sqrt n$, for alle ikke-negative, reelle tall $n$.\n",
    "Det betyr at dersom $n = a\\cdot b$, der a og b er heltall, så må enten $a \\leq \\sqrt n$ eller $b \\leq \\sqrt n$.\n",
    "\n",
    "Ta feks. tallet 18.\n",
    "\n",
    "Siden $16 = 4\\cdot 4$ og $25 = 5\\cdot 5$, så er $4 < \\sqrt 18 < 5$.\n",
    "\n",
    "Videre er det enkelt å finne primtallfaktoriseringen via gangetabellen, da $18 = 2\\cdot 9 = 2 \\cdot 3 \\cdot 3$.\n",
    "\n",
    "Det betyr at vi kan skrive $18$ som $18 = 3\\cdot 6$ og $18 = 2\\cdot 9$. I begge tilfeller er den ene faktoren mindre enn $\\sqrt 18$.\n",
    "\n",
    "Vi trenger altså ikke å lete etter faktorer $q$ som er større enn $\\sqrt n$ for å finne alle faktorene i $n$.\n",
    "\n",
    "Programmet vårt bygger på dette. Vi lager en funksjon som vi kaller `IsPrime`, som tar inn et tall, `n`, og sjekker om alle tall opp tom. $\\sqrt n$ er faktor i `n`. Dersom det ikke er tilfellet, må konklusjonen være at `n` er primtall."
   ]
  },
  {
   "cell_type": "code",
   "execution_count": null,
   "id": "super-proportion",
   "metadata": {},
   "outputs": [],
   "source": [
    "import math\n",
    "\n",
    "\n",
    "def IsPrime(n):\n",
    "    if n == 2:\n",
    "        return True\n",
    "    else:\n",
    "        for i in range(2, math.ceil(math.sqrt(n) + 1)):\n",
    "            if n % i == 0:\n",
    "                return False\n",
    "\n",
    "    return True"
   ]
  },
  {
   "cell_type": "markdown",
   "id": "alpha-steps",
   "metadata": {},
   "source": [
    "- Vi importerer modulen `math`, som er nuttig for å regne kvadratrot, samt å bruke \"tak\"-funksjonen [`math.ceil()`](https://www.w3schools.com/python/ref_math_ceil.asp), som runder et vilkårlig tall opp til nærmeste heltall. I.e `math.ceil(3.01)` vil returnere `4`\n",
    "- Definerer funksjonen `IsPrime` som tar inn et tall (`int` eller `float`) `n`. Her antas det at `n` er større enn 2. Man kan evt. gjøre noen små endringer (feks. med en ekstra `if`-setning) som tar hånd om verdier mindre eller lik 1.\n",
    "- Fuksjonen sjekker først om `n` har verdien 2, som er et primtall. Hvis ja, så returerer funksjonen `True`\n",
    "- Dersom `n` er større enn 2, bruker vi en `for`-løkke til å iterere over alle heltall opp tom. $\\sqrt n$. Å legge til 1 ( + 1) er en forsikring mtp. at `range`-funksjonen ekskluderer selve endepunktet\n",
    "- I `for`-løkken sjekker vi om `n` er delelig med det aktuelle tallet ved å bruke modulo-operatoren `%`. Vi sjekker altså etter om resten ved divisjon er 0. Dersom resten er 0 er `n` *ikke* primtall, og funksjonen returnerer `False`\n",
    "- Funksjonen returnerer `True` dersom `n` ikke er delelig med noen heltall opp tom. `math.ceil(sqrt(n)) + 1`"
   ]
  },
  {
   "cell_type": "markdown",
   "id": "refined-humanity",
   "metadata": {},
   "source": [
    "### Steg 2: Løse problemet\n",
    "Når `IsPrime` er definert, er det en relativt enkel sak å løse det aktuelle problemet.\n",
    "\n",
    "Det eneste vi trenger å gjøre er å iterere over alle heltall opp tom. $\\sqrt 600851475143 $, kalle `IsPrime` på hver iterasjon (hvert heltall) for å avgjøre om det er primtall eller ikke. Forkaste de som *ikke* er primtall, mens primtallene må sjekkes for om de er faktor i $600851475143$ ved å bruke modulo-operatoren. Dersom den aktuelle iterasjonen er faktor i $600851475143$, så lagrer vi den slik at vi kan printe resultatet til slutt. "
   ]
  },
  {
   "cell_type": "code",
   "execution_count": null,
   "id": "multiple-things",
   "metadata": {},
   "outputs": [],
   "source": [
    "num = 600851475143\n",
    "facs = []\n",
    "\n",
    "for i in range(3, math.ceil(math.sqrt(num) + 1)):\n",
    "    if IsPrime(i):\n",
    "        if num % i == 0:\n",
    "            facs.append(i)\n",
    "        else:\n",
    "            continue\n",
    "    else:\n",
    "        continue\n",
    "\n",
    "for i in facs:\n",
    "    print(i)"
   ]
  },
  {
   "cell_type": "markdown",
   "id": "hawaiian-assurance",
   "metadata": {},
   "source": [
    "- Lagrer tallet fra oppgaven i variablen `num`\n",
    "- Lager en tom liste, `facs`, som skal holde alle primtallsfaktorene til `num`\n",
    "- Videre benytter vi en `for`løkke på samme måte som da vi definerte `IsPrime`\n",
    "- Kaller `IsPrime` på hver iterasjon (hvert heltall) i løkka\n",
    "- Dersom `IsPrime` returnerer `True` (se definisjonen av `IsPrime`), så sjekker vi om resten når `num` divideres med den aktuelle iterasjonen er 0. Dersom det er tilfelle, legger vi til denne verdien (faktoren) i lista, siden det da er en primtallsfaktor. Dersom resten ikke er 0, går vi videre til neste iterasjon.\n",
    "- Dersom `IsPrime` returnerer `False` går vi videre til neste iterasjon i løkka.\n",
    "- Til slutt printer vi alle faktorene til skjerm. Siden oppgaven bare spurte etter den største kunne vi kjørt `facs.sort()`, og printet kun den største verdien med `print(facs[-1])`.\n",
    "- Man kan selvfølgelig også sjekke at produktet av primtallfaktorene blir verdien lagret i `num`, men dette overlates som en \"ekstraoppgave\" til leseren."
   ]
  },
  {
   "cell_type": "markdown",
   "id": "robust-august",
   "metadata": {},
   "source": [
    "### Komplett kode\n",
    "Den fullstendige koden vil da være slik som vist under, og vi kan kjøre koden med `num = 600851475143` og finne at den største primtallfaktoren er $6857$, som er løsningen på problemet."
   ]
  },
  {
   "cell_type": "code",
   "execution_count": 1,
   "id": "studied-magazine",
   "metadata": {},
   "outputs": [
    {
     "name": "stdout",
     "output_type": "stream",
     "text": [
      "71\n",
      "839\n",
      "1471\n",
      "6857\n"
     ]
    }
   ],
   "source": [
    "import math\n",
    "\n",
    "\n",
    "def IsPrime(n):\n",
    "\n",
    "    if n <= 1:\n",
    "        x = float(input(\"Please enter an integer greater than 2: \"))\n",
    "        i\n",
    "    if n == 2:\n",
    "        return True\n",
    "    else:\n",
    "        for i in range(2, math.ceil(math.sqrt(n) + 1)):\n",
    "            if n % i == 0:\n",
    "                return False\n",
    "\n",
    "    return True\n",
    "\n",
    "num = 600851475143\n",
    "facs = []\n",
    "\n",
    "for i in range(3, math.ceil(math.sqrt(num) + 1)):\n",
    "    if IsPrime(i):\n",
    "        if num % i == 0:\n",
    "            facs.append(i)\n",
    "        else:\n",
    "            continue\n",
    "    else:\n",
    "        continue\n",
    "\n",
    "for i in facs:\n",
    "    print(i)"
   ]
  },
  {
   "cell_type": "code",
   "execution_count": null,
   "id": "promotional-legislature",
   "metadata": {},
   "outputs": [],
   "source": []
  }
 ],
 "metadata": {
  "kernelspec": {
   "display_name": "Python 3",
   "language": "python",
   "name": "python3"
  },
  "language_info": {
   "codemirror_mode": {
    "name": "ipython",
    "version": 3
   },
   "file_extension": ".py",
   "mimetype": "text/x-python",
   "name": "python",
   "nbconvert_exporter": "python",
   "pygments_lexer": "ipython3",
   "version": "3.9.2"
  }
 },
 "nbformat": 4,
 "nbformat_minor": 5
}
