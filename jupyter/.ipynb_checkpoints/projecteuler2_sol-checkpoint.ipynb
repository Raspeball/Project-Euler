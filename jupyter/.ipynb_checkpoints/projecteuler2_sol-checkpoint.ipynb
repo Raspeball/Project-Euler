{
 "cells": [
  {
   "cell_type": "markdown",
   "id": "wound-tract",
   "metadata": {},
   "source": [
    "## Problembeskrivelse\n",
    "*Fritt oversatt fra [Project Euler](https://projecteuler.net/problem=2)*\n",
    "\n",
    "De velkjente [Fibonacci-tallene](https://en.wikipedia.org/wiki/Fibonacci_number) er slik at ethvert tall i tallfølgen forekommer ved å legge til de to foregående leddene i følgen.\n",
    "\n",
    "La $F_n$ være det n-te Fibonacci-tallet. Vi har da initialbetingelsene\n",
    "$$F_0 = 0 \\qquad og \\qquad F_1 = 1$$\n",
    "\n",
    "Vi har da at $F_2 = F_1 + F_0 = 1 + 0 = 1$,\n",
    "slik at de tre første leddene i følgen være $0, 1, 1$.\n",
    "\n",
    "Om vi starter Fibonacci-følgen med $F_2 = 1$, så vil de ti første leddene i følgen være:\n",
    "$$1, 2, 3, 5, 8, 13, 21, 34, 55, 89, \\ldots{}$$\n",
    "\n",
    "*Om vi betrakter de leddene i Fibonacci-følgen hvis verdi ikke overstiger fire millioner ($4000000$), finn summen av alle partalls-ledd (like ledd; ledd som er delelige med to).*"
   ]
  },
  {
   "cell_type": "markdown",
   "id": "covered-triple",
   "metadata": {},
   "source": [
    "## Løsning\n",
    "\n",
    "### Steg 1: Fibonacci-funksjon\n",
    "Det første vi gjør i programmet er å lage en funksjon, `Fibo`, som returnerer det n-te Fibonacci-tallet.\n",
    "Det er mulig å definere denne funksjonen *[rekursivt](https://www.w3schools.com/python/gloss_python_function_recursion.asp)*, altså en funksjon som kaller seg selv. Grunnen til at vi evt. gjør dette er fordi vi genererer leddene i Fibonacci-følgen ved å summere de to foregående leddene."
   ]
  },
  {
   "cell_type": "code",
   "execution_count": null,
   "id": "whole-donor",
   "metadata": {},
   "outputs": [],
   "source": [
    "def Fibo(n):\n",
    "\n",
    "\tif n == 0:\n",
    "\t\treturn 0\n",
    "\n",
    "\telif n == 1:\n",
    "\t\treturn 1\n",
    "\n",
    "\telse:\n",
    "\t\treturn Fibo(n-1) + Fibo(n-2)"
   ]
  },
  {
   "cell_type": "markdown",
   "id": "liked-number",
   "metadata": {},
   "source": [
    "- Funksjonen, `Fibo` tar inn et heltall, `n`, og returnerer det n-te leddet i Fibonacci-følgen (det n-te Fibonacci-tallet)\n",
    "- Vi tar hensyn til initialbetingelsene $F_0 = 0$ og $F_1 = 1$ ved å bruke `if-setninger` til å sjekke om `n = 0` eller `n = 1`, hvorpå `Fibo` returnerer hhv. $F_0 = 0$ eller $F_1 = 1$\n",
    "- Dersom `n >= 2` returnerer `Fibo` summen av de to foregående leddene ved å kalle seg selv\n",
    "\n",
    "Vi kan teste funksjonen ved å få den til å skrive ut de ti første leddene i Fibonacci-følgen. Vi bruker `range(12)` siden de to første leddene vil være initialbetingelsene våre, nemlig $F_0 = 0$ og $F_1 = 1$. Det betyr at for å få printet de ti leddene etter, så må vi fortelle python å fortsette til `2 + 10 = 12`."
   ]
  },
  {
   "cell_type": "code",
   "execution_count": null,
   "id": "intermediate-split",
   "metadata": {},
   "outputs": [],
   "source": [
    "for i in range(12):\n",
    "    print(Fibo(i))"
   ]
  },
  {
   "cell_type": "markdown",
   "id": "maritime-subcommittee",
   "metadata": {},
   "source": [
    "Ulempen med en rekursiv funksjon som denne er at den kan bli veldig treig etterhvert som man skal finne ledd langt ute i følgen, feks `Fibo(1000)` (det tusende Fibonacci-tallet), ettersom funksjonen må kalle seg selv veldig mange ganger. Det betyr at programmet vårt kommer til å bruke veldig lang tid på å kjøre, så vi trenger å kunne gjøre dette på en annen måte."
   ]
  },
  {
   "cell_type": "markdown",
   "id": "federal-activity",
   "metadata": {},
   "source": [
    "### Steg 2: En bedre Fibonacci-funksjon\n",
    "Funksjonen `FiboFaster` er ikke rekursiv, men benytter en `for`-løkke for å regne seg fram til det n-te leddet i følgen hver gang programmet kaller funksjonen.\n",
    "\n",
    "I denne funksjonen kaller vi for enkelhetsskyld initialbetingelsene for `a` ($F_0 = 0$) og `b` ($F_1 = 1$)."
   ]
  },
  {
   "cell_type": "code",
   "execution_count": null,
   "id": "typical-amount",
   "metadata": {},
   "outputs": [],
   "source": [
    "def FiboFaster(n):\n",
    "\ta = 0\n",
    "\tb = 1\n",
    "\n",
    "\tif n == 0:\n",
    "\t\treturn 0\n",
    "\n",
    "\telif n == 1:\n",
    "\t\treturn 1\n",
    "\n",
    "\telse:\n",
    "\t\tfor i in range(1, n):\n",
    "\t\t\tf = a + b\n",
    "\t\t\ta = b\n",
    "\t\t\tb = f\n",
    "\n",
    "\t\treturn b"
   ]
  },
  {
   "cell_type": "markdown",
   "id": "deadly-uganda",
   "metadata": {},
   "source": [
    "- Funksjonen, `FiboFaster` tar inn et heltall, `n`, og returnerer det n-te leddet i Fibonacci-følgen (det n-te Fibonacci-tallet)\n",
    "- Vi tar hensyn til initialbetingelsene $F_0 = 0$ og $F_1 = 1$ ved å bruke `if-setninger` til å sjekke om `n = 0` eller `n = 1`, hvorpå `FiboFaster` returnerer hhv. `0` eller `1`\n",
    "- Dersom `n >= 2` (`else`) returnerer `FiboFaster` det n-te leddet. Dette skjer ved å bruke en `for`-løkke som regner ut alle leddene fram til `n` Dette gjøres ved å lage en midlertidig variabel, `f`, som er summen `a+b`, før vi så oppdaterer verdiene av hhv. `a` og `b`\n",
    "\n",
    "Det kan være lurt å lage seg et flytskjema på papir her for å overbevise seg selv om hvordan dette fungerer.\n",
    "\n",
    "På samme måte som med den rekursive varianten kan vi teste funksjonen."
   ]
  },
  {
   "cell_type": "code",
   "execution_count": null,
   "id": "reserved-toilet",
   "metadata": {},
   "outputs": [],
   "source": [
    "for i in range(12):\n",
    "    print(FiboFaster(i))"
   ]
  },
  {
   "cell_type": "markdown",
   "id": "radio-falls",
   "metadata": {},
   "source": [
    "### Steg 3: Finne summen\n",
    "Det som gjenstår i løsningen er rett og slett bare å summere leddene i Fibonacci-følgen som er partall, og som er mindre enn fire millioner.\n",
    "Variabelen `lim = 4000000` holder denne grensen. Vi setter `sum_even_fibo = 0`, men denne skal oppdateres etterhvert som vi legger til partallsleddene.\n",
    "\n",
    "For å sjekke om et tall er delelig med 2 bruker vi *modulo*-operatoren, `%`, i python. Denne returnerer resten ved divisjon ved et tall. Eksempelvis vil `5 % 2` returnere 1, siden resten er 1 når vi deler 5 med 2. Om `x % 2` gir 0 vet vi altså at `x` er partall, siden dette er definisjonen av partall. Dette utnytter vi i programmet.\n",
    "\n",
    "Videre er det flere mulige veier man kan gå. Man kan for eksempel bruke en `while`-løkke til å få programmet til å kjøre så lenge det n-te leddet i Fibonacci-følgen er lavere enn `lim`.\n",
    "\n",
    "Vi velger imidlertid å bruke en `for`-løkke, siden det i akkurat dette programmet er (mye) raskere. Siden vi kan stoppe programmet med `break` spiller det ingen rolle om vi i utgagspunktet forteller programmet at vi skal ha mange flere iterasjoner enn det vi trenger. Vi bruker derfor `range(lim)` som avgrensning for `for`-løkken, og bruker en `if`-setning for å sjekke om vi har nådd grensen for verdien til det aktuelle leddet i Fibonacci-følgen. Dersom grensen ikke er nådd, sjekker vi om det aktuelle leddet er partall."
   ]
  },
  {
   "cell_type": "code",
   "execution_count": null,
   "id": "capable-enterprise",
   "metadata": {},
   "outputs": [],
   "source": [
    "lim = 4000000\n",
    "sum_even_fibo = 0\n",
    "\n",
    "for i in range(lim):\n",
    "\tfib = FiboFaster(i)\n",
    "\n",
    "\tif fib > lim:\n",
    "\t\tbreak\n",
    "\telse:\n",
    "\t\tif fib % 2 == 0:\n",
    "\t\t\tsum_even_fibo += fib\n",
    "\n",
    "print(sum_even_fibo)"
   ]
  },
  {
   "cell_type": "markdown",
   "id": "contemporary-rogers",
   "metadata": {},
   "source": [
    "- Vi bruker en `for`-løkke til å iterere gjennom økende ledd i Fibonacci-følgen, inntil vi når grenseverdien vår på fire millioner (`lim`)\n",
    "- Vi kaller funksjonen `FiboFaster` i variabelen `fib`, som oppdateres for hver iterasjon i `for`-løkken\n",
    "- Den første `if`-setningen sjekker om vi har nådd grensen, og avbryter løkken (`break`) hvis vi er over grensen\n",
    "- Deretter sjekker vi om det aktuelle leddet i Fibonacci-følgen er delelig med 2 ved å benytte en if-setning. Dersom det stemmer legger vi dette Fibonacci-tallet til variabelen `sum-even-fibo`\n",
    "- Til slutt printer vi verdien av `sum-even-fibo` til konsoll, som gir oss løsningen på problemet."
   ]
  },
  {
   "cell_type": "markdown",
   "id": "rental-manchester",
   "metadata": {},
   "source": [
    "### Komplett kode\n",
    "Den fullstendige koden (*ikke* inkludert den rekursive funksjonen, `Fibo`) vil da se slik ut, og vi kan kjøre programmet for å få summen av partalls-leddene i Fibonacci-følgen som har verdi mindre enn fire millioner."
   ]
  },
  {
   "cell_type": "code",
   "execution_count": null,
   "id": "conditional-garlic",
   "metadata": {},
   "outputs": [],
   "source": [
    "def FiboFaster(n):\n",
    "\ta = 0\n",
    "\tb = 1\n",
    "\n",
    "\tif n == 0:\n",
    "\t\treturn 0\n",
    "\n",
    "\telif n == 1:\n",
    "\t\treturn 1\n",
    "\n",
    "\telse:\n",
    "\t\tfor i in range(1, n):\n",
    "\t\t\tf = a + b\n",
    "\t\t\ta = b\n",
    "\t\t\tb = f\n",
    "\n",
    "\t\treturn b\n",
    "\n",
    "lim = 4000000\n",
    "sum_even_fibo = 0\n",
    "\n",
    "for i in range(lim):\n",
    "\tfib = FiboFaster(i)\n",
    "\n",
    "\tif fib > lim:\n",
    "\t\tbreak\n",
    "\telse:\n",
    "\t\tif fib % 2 == 0:\n",
    "\t\t\tsum_even_fibo += fib\n",
    "\n",
    "print(sum_even_fibo)"
   ]
  }
 ],
 "metadata": {
  "kernelspec": {
   "display_name": "Python 3",
   "language": "python",
   "name": "python3"
  },
  "language_info": {
   "codemirror_mode": {
    "name": "ipython",
    "version": 3
   },
   "file_extension": ".py",
   "mimetype": "text/x-python",
   "name": "python",
   "nbconvert_exporter": "python",
   "pygments_lexer": "ipython3",
   "version": "3.9.2"
  }
 },
 "nbformat": 4,
 "nbformat_minor": 5
}
