{
 "cells": [
  {
   "cell_type": "markdown",
   "id": "checked-sharp",
   "metadata": {},
   "source": [
    "## Problembeskrivelse\n",
    "*Fritt oversatt fra [Project Euler](https://projecteuler.net/problem=2)*\n",
    "\n",
    "De velkjente [Fibonacci-tallene](https://en.wikipedia.org/wiki/Fibonacci_number) er slik at ethvert tall i tallrekken forekommer ved å legge til de to foregående leddene i rekken.\n",
    "\n",
    "La $F_n$ være det n-te Fibonacci-tallet. Vi har da initialbetingelsene\n",
    "$$F_0 = 0 \\qquad og \\qquad F_1 = 1$$"
   ]
  },
  {
   "cell_type": "markdown",
   "id": "rocky-stadium",
   "metadata": {},
   "source": []
  }
 ],
 "metadata": {
  "kernelspec": {
   "display_name": "Python 3",
   "language": "python",
   "name": "python3"
  },
  "language_info": {
   "codemirror_mode": {
    "name": "ipython",
    "version": 3
   },
   "file_extension": ".py",
   "mimetype": "text/x-python",
   "name": "python",
   "nbconvert_exporter": "python",
   "pygments_lexer": "ipython3",
   "version": "3.9.2"
  }
 },
 "nbformat": 4,
 "nbformat_minor": 5
}
